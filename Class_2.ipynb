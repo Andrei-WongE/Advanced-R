{
  "nbformat": 4,
  "nbformat_minor": 0,
  "metadata": {
    "colab": {
      "provenance": [],
      "authorship_tag": "ABX9TyN+6qGd7M4EheUG8cSYM2Ma",
      "include_colab_link": true
    },
    "kernelspec": {
      "name": "python3",
      "display_name": "Python 3"
    },
    "language_info": {
      "name": "python"
    }
  },
  "cells": [
    {
      "cell_type": "markdown",
      "metadata": {
        "id": "view-in-github",
        "colab_type": "text"
      },
      "source": [
        "<a href=\"https://colab.research.google.com/github/Andrei-WongE/Advanced-R/blob/master/Class_2.ipynb\" target=\"_parent\"><img src=\"https://colab.research.google.com/assets/colab-badge.svg\" alt=\"Open In Colab\"/></a>"
      ]
    },
    {
      "cell_type": "markdown",
      "source": [
        "\n",
        "\n",
        "# Mount Drive"
      ],
      "metadata": {
        "id": "q0T2SeMbwSmI"
      }
    },
    {
      "cell_type": "code",
      "source": [
        "#Import drive library\n",
        "from google.colab import drive\n",
        "\n",
        "#mount location\n",
        "drive.mount('/content/drive')"
      ],
      "metadata": {
        "colab": {
          "base_uri": "https://localhost:8080/"
        },
        "id": "V78OF6tvwQOl",
        "outputId": "9184a8c0-3369-4199-f088-28f5e42e2056"
      },
      "execution_count": null,
      "outputs": [
        {
          "output_type": "stream",
          "name": "stdout",
          "text": [
            "Mounted at /content/drive\n"
          ]
        }
      ]
    },
    {
      "cell_type": "code",
      "source": [
        "#drive.flush_and_unmount()"
      ],
      "metadata": {
        "id": "PjGSipn0wpcc"
      },
      "execution_count": null,
      "outputs": []
    },
    {
      "cell_type": "markdown",
      "source": [
        "Change working directory"
      ],
      "metadata": {
        "id": "m6JqqNRJu8Be"
      }
    },
    {
      "cell_type": "code",
      "source": [
        "#OS from python\n",
        "import os\n",
        "\n",
        "mount = '/content/drive'\n",
        "drive_root = mount + \"/My Drive/Colab Notebooks/Applied ML\"\n",
        "\n",
        "# Create drive_root if it doesn't exist\n",
        "create_drive_root = True\n",
        "if create_drive_root:\n",
        "  print(\"\\nColab: making sure \", drive_root, \" exists.\")\n",
        "  os.makedirs(drive_root, exist_ok=True)\n",
        "\n",
        "# Change to the directory\n",
        "print(\"\\nColab: Changing directory to \", drive_root)\n",
        "%cd $drive_root"
      ],
      "metadata": {
        "colab": {
          "base_uri": "https://localhost:8080/"
        },
        "id": "FdoMV7W2uJ2E",
        "outputId": "a7ac8cdc-b97a-4f0f-d0a8-42a5850ace82"
      },
      "execution_count": null,
      "outputs": [
        {
          "output_type": "stream",
          "name": "stdout",
          "text": [
            "\n",
            "Colab: making sure  /content/drive/My Drive/Colab Notebooks/Applied ML  exists.\n",
            "\n",
            "Colab: Changing directory to  /content/drive/My Drive/Colab Notebooks/Applied ML\n",
            "/content/drive/My Drive/Colab Notebooks/Applied ML\n"
          ]
        }
      ]
    },
    {
      "cell_type": "code",
      "source": [
        "# Check wd\n",
        "!pwd"
      ],
      "metadata": {
        "colab": {
          "base_uri": "https://localhost:8080/"
        },
        "id": "M9G99G5LvV76",
        "outputId": "ddb5c697-ac70-46bb-8169-b16334c59e52"
      },
      "execution_count": null,
      "outputs": [
        {
          "output_type": "stream",
          "name": "stdout",
          "text": [
            "/content\n"
          ]
        }
      ]
    },
    {
      "cell_type": "markdown",
      "source": [
        "Connect to github"
      ],
      "metadata": {
        "id": "XP-sejAkFdXN"
      }
    },
    {
      "cell_type": "code",
      "source": [
        "! apt-get install git"
      ],
      "metadata": {
        "colab": {
          "base_uri": "https://localhost:8080/"
        },
        "id": "jPqoycboFc6q",
        "outputId": "9cc82cfb-e5cf-4862-8c9b-7155b7f4ce98"
      },
      "execution_count": 1,
      "outputs": [
        {
          "output_type": "stream",
          "name": "stdout",
          "text": [
            "Reading package lists... Done\n",
            "Building dependency tree... Done\n",
            "Reading state information... Done\n",
            "git is already the newest version (1:2.34.1-1ubuntu1.10).\n",
            "0 upgraded, 0 newly installed, 0 to remove and 33 not upgraded.\n"
          ]
        }
      ]
    },
    {
      "cell_type": "code",
      "source": [
        "!git remote add origin https://<Andrei-WongE>:<PASSWORD>@github.com/Andrei-WongE/ML_sandbox.git"
      ],
      "metadata": {
        "colab": {
          "base_uri": "https://localhost:8080/"
        },
        "id": "8nEwu70iFmRM",
        "outputId": "e07bf513-7b8f-4902-add0-d176f1fd2158"
      },
      "execution_count": 4,
      "outputs": [
        {
          "output_type": "stream",
          "name": "stdout",
          "text": [
            "fatal: not a git repository (or any of the parent directories): .git\n"
          ]
        }
      ]
    },
    {
      "cell_type": "markdown",
      "source": [
        "#  Import *CSV*"
      ],
      "metadata": {
        "id": "TvESuaRhxG0n"
      }
    },
    {
      "cell_type": "code",
      "execution_count": null,
      "metadata": {
        "colab": {
          "base_uri": "https://localhost:8080/"
        },
        "id": "4lpDRcLjrPmH",
        "outputId": "02016685-68e1-4ab2-8eb6-f1654d6f8dc5"
      },
      "outputs": [
        {
          "output_type": "stream",
          "name": "stdout",
          "text": [
            "(768, 9)\n"
          ]
        }
      ],
      "source": [
        "## Loading CSV file:\n",
        "# Load CSV Using Python Standard Library\n",
        "import csv\n",
        "import numpy\n",
        "\n",
        "filename = 'pima-indians-diabetes.data.csv'\n",
        "raw_data = open(filename, 'rt')\n",
        "\n",
        "reader = csv.reader(raw_data, delimiter=',', quoting=csv.QUOTE_NONE)\n",
        "x = list(reader)\n",
        "\n",
        "data = numpy.array(x).astype('float')\n",
        "print(data.shape)\n",
        "\n",
        "# Load CSV using NumPy\n",
        "# 𝑛𝑢𝑚𝑝𝑦. 𝑙𝑜𝑎𝑑𝑡𝑥𝑡() function. This function assumes no header row and all data\n",
        "# has the same format.\n",
        "from numpy import loadtxt\n",
        "\n",
        "filename = 'pima-indians-diabetes.data.csv'\n",
        "raw_data = open(filename, 'rt')\n",
        "data = loadtxt(raw_data, delimiter=\",\")\n",
        "\n",
        "print(data.shape)\n",
        "\n",
        "# Load CSV from URL using NumPy\n",
        "from numpy import loadtxt\n",
        "from urllib import urlopen\n",
        "\n",
        "url = 'https://goo.gl/XXXXX'\n",
        "raw_data = urlopen(url)\n",
        "dataset = loadtxt(raw_data, delimiter=\",\")\n",
        "print(dataset.shape)\n",
        "\n",
        "# Load CSV using Pandas\n",
        "from pandas import read_csv\n",
        "\n",
        "filename = 'pima-indians-diabetes.data.csv'\n",
        "names = ['preg', 'plas', 'pres', 'skin', 'test', 'mass', 'pedi', 'age', 'class']\n",
        "data = read_csv(filename, names=names)\n",
        "\n",
        "print(data.shape)"
      ]
    },
    {
      "cell_type": "markdown",
      "source": [
        "# Descriptive stats"
      ],
      "metadata": {
        "id": "-zycBWG812RZ"
      }
    },
    {
      "cell_type": "code",
      "source": [
        "# View first 20 rows\n",
        "\n",
        "peek = data.head(20)\n",
        "print(peek)"
      ],
      "metadata": {
        "colab": {
          "base_uri": "https://localhost:8080/"
        },
        "id": "TjZzYt5z14gS",
        "outputId": "b821ddba-9b99-46af-cf73-bfa8d2d5d68c"
      },
      "execution_count": null,
      "outputs": [
        {
          "output_type": "stream",
          "name": "stdout",
          "text": [
            "    preg  plas  pres  skin  test  mass   pedi  age  class\n",
            "0      6   148    72    35     0  33.6  0.627   50      1\n",
            "1      1    85    66    29     0  26.6  0.351   31      0\n",
            "2      8   183    64     0     0  23.3  0.672   32      1\n",
            "3      1    89    66    23    94  28.1  0.167   21      0\n",
            "4      0   137    40    35   168  43.1  2.288   33      1\n",
            "5      5   116    74     0     0  25.6  0.201   30      0\n",
            "6      3    78    50    32    88  31.0  0.248   26      1\n",
            "7     10   115     0     0     0  35.3  0.134   29      0\n",
            "8      2   197    70    45   543  30.5  0.158   53      1\n",
            "9      8   125    96     0     0   0.0  0.232   54      1\n",
            "10     4   110    92     0     0  37.6  0.191   30      0\n",
            "11    10   168    74     0     0  38.0  0.537   34      1\n",
            "12    10   139    80     0     0  27.1  1.441   57      0\n",
            "13     1   189    60    23   846  30.1  0.398   59      1\n",
            "14     5   166    72    19   175  25.8  0.587   51      1\n",
            "15     7   100     0     0     0  30.0  0.484   32      1\n",
            "16     0   118    84    47   230  45.8  0.551   31      1\n",
            "17     7   107    74     0     0  29.6  0.254   31      1\n",
            "18     1   103    30    38    83  43.3  0.183   33      0\n",
            "19     1   115    70    30    96  34.6  0.529   32      1\n"
          ]
        }
      ]
    },
    {
      "cell_type": "markdown",
      "source": [
        "You must have a very good handle on how much data you have, both in terms of rows and columns.\n",
        "\n",
        "\n",
        "• Too many rows and algorithms may take too long to train. Too few and perhaps you do not have enough data to train the algorithms.\n",
        "\n",
        "• Too many features and some algorithms can be distracted or suffer poor performance due to the curse of dimensionality (will be explained in the next lecture)."
      ],
      "metadata": {
        "id": "lPSQgQ0O6ST3"
      }
    },
    {
      "cell_type": "code",
      "source": [
        "# Dimensions of your data\n",
        "shape = data.shape\n",
        "print(shape)"
      ],
      "metadata": {
        "colab": {
          "base_uri": "https://localhost:8080/"
        },
        "id": "o-3t2XfI6avS",
        "outputId": "b7c03e13-abaa-4bcf-9924-122f9398816e"
      },
      "execution_count": null,
      "outputs": [
        {
          "output_type": "stream",
          "name": "stdout",
          "text": [
            "(768, 9)\n"
          ]
        }
      ]
    },
    {
      "cell_type": "markdown",
      "source": [
        "Data Type for Each Attribute"
      ],
      "metadata": {
        "id": "Tn6SW2Ty6lO7"
      }
    },
    {
      "cell_type": "code",
      "source": [
        "# Data Types for Each Attribute\n",
        "from pandas import read_csv\n",
        "\n",
        "types = data.dtypes\n",
        "print(types)"
      ],
      "metadata": {
        "colab": {
          "base_uri": "https://localhost:8080/"
        },
        "id": "9isjsFlR6ms_",
        "outputId": "c04f6e04-1013-4a56-ae28-2adb56789366"
      },
      "execution_count": null,
      "outputs": [
        {
          "output_type": "stream",
          "name": "stdout",
          "text": [
            "preg       int64\n",
            "plas       int64\n",
            "pres       int64\n",
            "skin       int64\n",
            "test       int64\n",
            "mass     float64\n",
            "pedi     float64\n",
            "age        int64\n",
            "class      int64\n",
            "dtype: object\n"
          ]
        }
      ]
    },
    {
      "cell_type": "code",
      "source": [
        "# Statistical Summary\n",
        "from pandas import set_option\n",
        "\n",
        "set_option('display.width', 100)\n",
        "set_option('display.precision', 1)\n",
        "\n",
        "description = data.describe()\n",
        "print(description)"
      ],
      "metadata": {
        "colab": {
          "base_uri": "https://localhost:8080/"
        },
        "id": "pQ07oCi87a22",
        "outputId": "14e6ab8a-918c-4132-9953-15a504a7bfc5"
      },
      "execution_count": null,
      "outputs": [
        {
          "output_type": "stream",
          "name": "stdout",
          "text": [
            "        preg   plas   pres   skin   test   mass     pedi    age  class\n",
            "count  768.0  768.0  768.0  768.0  768.0  768.0  7.7e+02  768.0  768.0\n",
            "mean     3.8  120.9   69.1   20.5   79.8   32.0  4.7e-01   33.2    0.3\n",
            "std      3.4   32.0   19.4   16.0  115.2    7.9  3.3e-01   11.8    0.5\n",
            "min      0.0    0.0    0.0    0.0    0.0    0.0  7.8e-02   21.0    0.0\n",
            "25%      1.0   99.0   62.0    0.0    0.0   27.3  2.4e-01   24.0    0.0\n",
            "50%      3.0  117.0   72.0   23.0   30.5   32.0  3.7e-01   29.0    0.0\n",
            "75%      6.0  140.2   80.0   32.0  127.2   36.6  6.3e-01   41.0    1.0\n",
            "max     17.0  199.0  122.0   99.0  846.0   67.1  2.4e+00   81.0    1.0\n"
          ]
        }
      ]
    },
    {
      "cell_type": "markdown",
      "source": [
        "Class distribution: On classification problems you need to know how balanced the class values are"
      ],
      "metadata": {
        "id": "Zvn5sGzD8rZO"
      }
    },
    {
      "cell_type": "code",
      "source": [
        "# Class Distribution\n",
        "\n",
        "class_counts = data.groupby('class').size()\n",
        "print(class_counts)"
      ],
      "metadata": {
        "colab": {
          "base_uri": "https://localhost:8080/"
        },
        "id": "JaLEd7068rK8",
        "outputId": "35c17b11-4b46-44b7-f359-c761490e8e1c"
      },
      "execution_count": null,
      "outputs": [
        {
          "output_type": "stream",
          "name": "stdout",
          "text": [
            "class\n",
            "0    500\n",
            "1    268\n",
            "dtype: int64\n"
          ]
        }
      ]
    },
    {
      "cell_type": "markdown",
      "source": [
        "Correlations between Attributes"
      ],
      "metadata": {
        "id": "uTqiiYAH_YX7"
      }
    },
    {
      "cell_type": "code",
      "source": [
        "# Pairwise Pearson correlations\n",
        "\n",
        "set_option('display.width', 100)\n",
        "set_option('display.precision', 3)\n",
        "\n",
        "correlations = data.corr(method='pearson')\n",
        "print(correlations)"
      ],
      "metadata": {
        "colab": {
          "base_uri": "https://localhost:8080/"
        },
        "id": "BvfFWCUW_WWm",
        "outputId": "dcffaacf-e5d2-4433-9cbf-c6ca33dac2e3"
      },
      "execution_count": null,
      "outputs": [
        {
          "output_type": "stream",
          "name": "stdout",
          "text": [
            "        preg   plas   pres   skin   test   mass   pedi    age  class\n",
            "preg   1.000  0.129  0.141 -0.082 -0.074  0.018 -0.034  0.544  0.222\n",
            "plas   0.129  1.000  0.153  0.057  0.331  0.221  0.137  0.264  0.467\n",
            "pres   0.141  0.153  1.000  0.207  0.089  0.282  0.041  0.240  0.065\n",
            "skin  -0.082  0.057  0.207  1.000  0.437  0.393  0.184 -0.114  0.075\n",
            "test  -0.074  0.331  0.089  0.437  1.000  0.198  0.185 -0.042  0.131\n",
            "mass   0.018  0.221  0.282  0.393  0.198  1.000  0.141  0.036  0.293\n",
            "pedi  -0.034  0.137  0.041  0.184  0.185  0.141  1.000  0.034  0.174\n",
            "age    0.544  0.264  0.240 -0.114 -0.042  0.036  0.034  1.000  0.238\n",
            "class  0.222  0.467  0.065  0.075  0.131  0.293  0.174  0.238  1.000\n"
          ]
        }
      ]
    },
    {
      "cell_type": "markdown",
      "source": [
        "Skew of Univariate Distributions: Many machine learning algorithms assume a Gaussian distribution. Knowing that an attribute has a skew may allow you to perform data preparation to correct the skew and later improve the accuracy of your models."
      ],
      "metadata": {
        "id": "4f4GieUH_7qu"
      }
    },
    {
      "cell_type": "code",
      "source": [
        "# Skew for each attribute, The skew result show a positive (right) or\n",
        "# negative (left) skew. Values closer to zero show less skew\n",
        "\n",
        "skew = data.skew()\n",
        "print(skew)"
      ],
      "metadata": {
        "colab": {
          "base_uri": "https://localhost:8080/"
        },
        "id": "zv-hUR94_9az",
        "outputId": "e4782e28-2e62-493a-b422-4682b2961a36"
      },
      "execution_count": null,
      "outputs": [
        {
          "output_type": "stream",
          "name": "stdout",
          "text": [
            "preg     0.902\n",
            "plas     0.174\n",
            "pres    -1.844\n",
            "skin     0.109\n",
            "test     2.272\n",
            "mass    -0.429\n",
            "pedi     1.920\n",
            "age      1.130\n",
            "class    0.635\n",
            "dtype: float64\n"
          ]
        }
      ]
    }
  ]
}